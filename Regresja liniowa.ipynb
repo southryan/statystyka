{
 "cells": [
  {
   "cell_type": "markdown",
   "metadata": {
    "id": "Cmfn0fSAmQbe"
   },
   "source": [
    "### Analiza regresji liniowej\n",
    "#### Poniższy kod to przykład zastosowania analizy regresji liniowej do danych z wykorzystaniem (przede wszystkim) bibliotek pandas i numpy. Więcej o regresji liniowej można przeczytać w tym miejscu - https://scikit-learn.org/stable/modules/generated/sklearn.linear_model.LinearRegression.html\n",
    "#### Ostatnia aktualizacja - 16.01.2021 r. W. Oronowicz-Jaśkowiak"
   ]
  },
  {
   "cell_type": "code",
   "execution_count": null,
   "metadata": {
    "id": "zwVXO-2DmQbh"
   },
   "outputs": [],
   "source": [
    "import pandas as pd\n",
    "import numpy as np\n",
    "import re \n",
    "from sklearn.linear_model import LinearRegression\n",
    "from sklearn.model_selection import train_test_split\n",
    "import os\n",
    "\n",
    "import matplotlib.pyplot as plt\n",
    "from sklearn import datasets\n",
    "from sklearn.metrics import mean_squared_error, r2_score\n",
    "\n",
    "from sklearn import metrics\n",
    "import seaborn as sns\n",
    "%matplotlib inline"
   ]
  },
  {
   "cell_type": "code",
   "execution_count": null,
   "metadata": {
    "colab": {
     "base_uri": "https://localhost:8080/",
     "height": 37
    },
    "id": "Bwh9i0DzmQbi",
    "outputId": "c5926b4d-0637-498f-8ddb-47a2a11a7b8a"
   },
   "outputs": [],
   "source": [
    "os.getcwd()"
   ]
  },
  {
   "cell_type": "code",
   "execution_count": null,
   "metadata": {
    "colab": {
     "base_uri": "https://localhost:8080/",
     "height": 375
    },
    "id": "Wq_0RtcmmQbj",
    "outputId": "113a822a-a68c-476a-fd9f-72f49606b077"
   },
   "outputs": [],
   "source": [
    "df = pd.read_csv(\"csv_regresja_liniowa.csv\", sep = ';') "
   ]
  },
  {
   "cell_type": "code",
   "execution_count": null,
   "metadata": {
    "colab": {
     "base_uri": "https://localhost:8080/"
    },
    "id": "gBvEKxU3mQbk",
    "outputId": "23373892-ee94-4568-f28d-611c9b183934"
   },
   "outputs": [],
   "source": [
    "print(df)"
   ]
  },
  {
   "cell_type": "code",
   "execution_count": null,
   "metadata": {
    "colab": {
     "base_uri": "https://localhost:8080/"
    },
    "id": "SP3YWf93mQbl",
    "outputId": "3c53ef9d-5592-4423-ada4-bc3985f8aa1e"
   },
   "outputs": [],
   "source": [
    "df.columns"
   ]
  },
  {
   "cell_type": "code",
   "execution_count": null,
   "metadata": {
    "colab": {
     "base_uri": "https://localhost:8080/"
    },
    "id": "N1ktqsanmQbn",
    "outputId": "305921c1-826c-4c84-84b1-71273a9ff8f1"
   },
   "outputs": [],
   "source": [
    "df.isnull().any()"
   ]
  },
  {
   "cell_type": "code",
   "execution_count": null,
   "metadata": {
    "id": "BI8pJrYrmQbo"
   },
   "outputs": [],
   "source": [
    "# df=df.fillna(df.mean())\n",
    "# df=df.fillna(0)"
   ]
  },
  {
   "cell_type": "code",
   "execution_count": null,
   "metadata": {
    "id": "WWqsu470mQbp",
    "outputId": "07833bb7-54d5-417d-898c-ddfc29d1dcf9"
   },
   "outputs": [],
   "source": [
    "perc =[.20, .40, .60, .80]\n",
    "desc = df.describe(percentiles = perc) \n",
    "print(desc)"
   ]
  },
  {
   "cell_type": "code",
   "execution_count": null,
   "metadata": {
    "id": "Fsf22oqEmQbr",
    "outputId": "0d4063f8-7f28-4911-b80a-eb3754b7412a"
   },
   "outputs": [],
   "source": [
    "sns.distplot(df['nasilenie_objawow'])"
   ]
  },
  {
   "cell_type": "code",
   "execution_count": null,
   "metadata": {
    "id": "Pptp9uS8mQbs"
   },
   "outputs": [],
   "source": [
    "model = LinearRegression()"
   ]
  },
  {
   "cell_type": "code",
   "execution_count": null,
   "metadata": {
    "id": "V4wbiW06mQbs"
   },
   "outputs": [],
   "source": [
    "y = df['nasilenie_objawow'] # zmienna zależna\n",
    "x = df.drop(labels = \"nasilenie_objawow\", axis = 1) # zmienne niezależne\n",
    "x_train, x_test, y_train, y_test = train_test_split(x,y, test_size = 0.20) # losowy przydział do zbiorów"
   ]
  },
  {
   "cell_type": "code",
   "execution_count": null,
   "metadata": {
    "id": "DBLCIeeNmQbt",
    "outputId": "e4e4e7a3-c5aa-4153-a9ac-8946001a3dbc"
   },
   "outputs": [],
   "source": [
    "model.fit(x_train, y_train)"
   ]
  },
  {
   "cell_type": "code",
   "execution_count": null,
   "metadata": {
    "id": "dERYwAgMmQbu",
    "outputId": "214cd740-3b6a-436a-bac8-9947e90e9c26"
   },
   "outputs": [],
   "source": [
    "r_sq = model.score(x, y)\n",
    "print('Stala:', model.intercept_)\n",
    "print('WWaznosc zmiennych niezaleznych', model.coef_)\n",
    "print('Wspolczynnik determinacji:', r_sq)"
   ]
  },
  {
   "cell_type": "code",
   "execution_count": null,
   "metadata": {
    "id": "Mk7ifTnGmQbv"
   },
   "outputs": [],
   "source": [
    "y_pred = model.predict(x_test)"
   ]
  },
  {
   "cell_type": "code",
   "execution_count": null,
   "metadata": {
    "id": "QuUJ9XHdmQbv",
    "outputId": "97e5ceac-2181-4f36-c67e-5f8a2d26ef49"
   },
   "outputs": [],
   "source": [
    "df2 = pd.DataFrame({'W rzeczywistości': y_test, \"Przewidziane\": y_pred})\n",
    "print(df2)"
   ]
  },
  {
   "cell_type": "code",
   "execution_count": null,
   "metadata": {
    "id": "PQMSmjwCmQbx",
    "outputId": "807f826c-b922-4e8d-a8dd-008d472fe1db"
   },
   "outputs": [],
   "source": [
    "df2 = df2.head(15) \n",
    "df2.plot(kind='bar',figsize=(16,10))\n",
    "plt.grid(which='major', linestyle='-', linewidth='0.5', color='green')\n",
    "plt.grid(which='minor', linestyle=':', linewidth='0.5', color='black')\n",
    "plt.show()"
   ]
  },
  {
   "cell_type": "code",
   "execution_count": null,
   "metadata": {
    "id": "cnBL5YSpmQby",
    "outputId": "86d364bd-57ce-40ff-98a4-eb38a2f0419a"
   },
   "outputs": [],
   "source": [
    "print('Sredni blad bezwgledny - Mean Absolute Error:', metrics.mean_absolute_error(y_test, y_pred))  \n",
    "print('Sredni blad kwadratowy - Mean Squared Error:', metrics.mean_squared_error(y_test, y_pred))  \n",
    "print('Pierwiastek bledu sredniokwadratowego - Root Mean Squared Error:', np.sqrt(metrics.mean_squared_error(y_test, y_pred)))\n",
    "print('Procent wariancji wyjasnionej:', r_sq*100)\n",
    "\n",
    "if r_sq*100 < 20:\n",
    "    print(\"Model nie wyjaśnia dobrze zmiennych\")\n",
    "else:\n",
    "    print('Model może wyjaśniać dobrze zmienne')"
   ]
  },
  {
   "cell_type": "code",
   "execution_count": null,
   "metadata": {
    "id": "Qt2IET3smQbz",
    "outputId": "32bd1dfc-a63d-4537-ecf9-8cef129a59ce"
   },
   "outputs": [],
   "source": [
    "coeff_df = pd.DataFrame(model.coef_, x.columns, columns=['Waznosc zmiennych niezaleznych - coefficient'])  \n",
    "coeff_df"
   ]
  },
  {
   "cell_type": "code",
   "execution_count": null,
   "metadata": {
    "id": "nzEk2c70mQb0",
    "outputId": "13a10e9c-f84c-4729-c46f-19111fe29415"
   },
   "outputs": [],
   "source": [
    "plt.scatter(y_test,y_pred)\n",
    "plt.xlabel(\"Prawdziwe wartosci\")\n",
    "plt.ylabel(\"Przewidziane wartosci\")"
   ]
  },
  {
   "cell_type": "code",
   "execution_count": null,
   "metadata": {
    "id": "AF1aqcgQmQb0",
    "outputId": "8369acd0-24e1-48e2-8c35-9fcd298f3167"
   },
   "outputs": [],
   "source": [
    "sns.distplot((y_test-y_pred)) "
   ]
  },
  {
   "cell_type": "code",
   "execution_count": null,
   "metadata": {
    "id": "KTVlZt9AmQb2",
    "outputId": "51f2574b-3437-404c-e775-3329a182e24b"
   },
   "outputs": [],
   "source": [
    "sns.heatmap(df.corr(),annot=True)"
   ]
  }
 ],
 "metadata": {
  "colab": {
   "name": "Regresja liniowa.ipynb",
   "provenance": []
  },
  "kernelspec": {
   "display_name": "Python 3",
   "language": "python",
   "name": "python3"
  },
  "language_info": {
   "codemirror_mode": {
    "name": "ipython",
    "version": 2
   },
   "file_extension": ".py",
   "mimetype": "text/x-python",
   "name": "python",
   "nbconvert_exporter": "python",
   "pygments_lexer": "ipython2",
   "version": "2.7.18"
  }
 },
 "nbformat": 4,
 "nbformat_minor": 1
}
